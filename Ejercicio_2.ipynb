{
  "nbformat": 4,
  "nbformat_minor": 0,
  "metadata": {
    "colab": {
      "provenance": [],
      "authorship_tag": "ABX9TyPGO4YA9muvPmn9wn7uTJFn",
      "include_colab_link": true
    },
    "kernelspec": {
      "name": "python3",
      "display_name": "Python 3"
    },
    "language_info": {
      "name": "python"
    }
  },
  "cells": [
    {
      "cell_type": "markdown",
      "metadata": {
        "id": "view-in-github",
        "colab_type": "text"
      },
      "source": [
        "<a href=\"https://colab.research.google.com/github/rogeliohc21/ml/blob/main/Ejercicio_2.ipynb\" target=\"_parent\"><img src=\"https://colab.research.google.com/assets/colab-badge.svg\" alt=\"Open In Colab\"/></a>"
      ]
    },
    {
      "cell_type": "markdown",
      "source": [
        "Factorial\n",
        "\n",
        "El factorial de un entero positivo\n",
        ", se define en como el producto de todos los números enteros positivos desde\n",
        " (es decir, los números naturales) hasta\n",
        ". Por ejemplo:\n",
        "\n",
        "                          5!=1 * 2 * 3 * 4 * 5 = 120\n",
        "\n",
        "La operación de factorial aparece en muchas áreas de las matemáticas, particularmente en combinatoria y análisis matemático.\n",
        "\n",
        "Escribir una función que calcule el factorial de un número dado por el usuario y devuelva el resultado obtenido al final de dicho cálculo.\n",
        "\n",
        "Notas\n",
        "\n",
        "No utilice módulos de Python."
      ],
      "metadata": {
        "id": "2pIAKbes2Isf"
      }
    },
    {
      "cell_type": "code",
      "source": [
        "print(\"***Ingresa cualquier núemro***\")\n",
        "num=int(input())\n",
        "print(\"---El Facorial del número que escogiste es:---\")\n",
        "total=1\n",
        "for i in range (1,num+1):\n",
        "  total=total*i\n",
        "print(total)"
      ],
      "metadata": {
        "colab": {
          "base_uri": "https://localhost:8080/"
        },
        "id": "DYQzbFVUy_Bj",
        "outputId": "89a8f295-dfc3-47e9-eec6-94e3f51fcc83"
      },
      "execution_count": 25,
      "outputs": [
        {
          "output_type": "stream",
          "name": "stdout",
          "text": [
            "***Ingresa cualquier núemro***\n",
            "7\n",
            "---El Facorial del número que escogiste es:---\n",
            "5040\n"
          ]
        }
      ]
    },
    {
      "cell_type": "code",
      "source": [
        "while True:\n",
        "  try:\n",
        "    print(\"***Ingresa un numero**\")\n",
        "    num=int(input())\n",
        "    total=1\n",
        "    if num == 0:\n",
        "      print(\"Error ingresa un numero mayor a 0\")\n",
        "    if num <= 1:\n",
        "      print(\"Ingresa un numero mayor a 1\")\n",
        "    for i in range (1,num+1):\n",
        "      total=total*i\n",
        "    break\n",
        "  except ValueError:\n",
        "    pass\n",
        "print(\"-- El factorial del numero que escogiste es: --\")\n",
        "print(total)"
      ],
      "metadata": {
        "colab": {
          "base_uri": "https://localhost:8080/"
        },
        "id": "2YPSbLb4-V1W",
        "outputId": "7a93a195-fe80-4737-9f99-e44095eb146d"
      },
      "execution_count": 1,
      "outputs": [
        {
          "output_type": "stream",
          "name": "stdout",
          "text": [
            "***Ingresa un numero**\n",
            "4\n",
            "-- El factorial del numero que escogiste es: --\n",
            "24\n"
          ]
        }
      ]
    }
  ]
}